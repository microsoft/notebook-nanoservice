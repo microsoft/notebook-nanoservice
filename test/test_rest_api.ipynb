{
 "cells": [
  {
   "cell_type": "code",
   "execution_count": null,
   "id": "df228891",
   "metadata": {},
   "outputs": [],
   "source": [
    "import json\n",
    "\n",
    "def display_response(response):\n",
    "    if response.status_code == 200:\n",
    "        try:\n",
    "            print(\"Response JSON:\", response.json())\n",
    "        except json.JSONDecodeError:\n",
    "            print(\"Response Text:\", response.text)\n",
    "    else:\n",
    "        print(\"Error:\", response.status_code, response.text)"
   ]
  },
  {
   "cell_type": "code",
   "execution_count": null,
   "id": "f9fde25f",
   "metadata": {},
   "outputs": [],
   "source": [
    "from IPython.display import Image, display\n",
    "\n",
    "def display_image_from_response(response):\n",
    "    if response.status_code == 200 and response.headers.get('Content-Type') == 'image/png':\n",
    "        display(Image(data=response.content))\n",
    "    else:\n",
    "        print(\"Response is not an image or failed:\", response.status_code, response.text)"
   ]
  },
  {
   "cell_type": "markdown",
   "id": "b45a1c23",
   "metadata": {},
   "source": [
    "# Test REST API Calls\n",
    "\n",
    "This notebook tests each of the REST API calls defined in the `sample.ipynb` notebook. Each function is tested using both GET and POST methods to ensure proper functionality."
   ]
  },
  {
   "cell_type": "code",
   "execution_count": null,
   "id": "6d7d0210",
   "metadata": {},
   "outputs": [],
   "source": [
    "import requests\n",
    "import json\n",
    "\n",
    "BASE_URL = \"http://localhost:5001/api\"\n",
    "\n",
    "def test_api(endpoint, method=\"GET\", params=None, json_data=None):\n",
    "    url = f\"{BASE_URL}/{endpoint}\"\n",
    "    if method == \"GET\":\n",
    "        response = requests.get(url, params=params)\n",
    "    elif method == \"POST\":\n",
    "        response = requests.post(url, json=json_data)\n",
    "    else:\n",
    "        raise ValueError(\"Unsupported HTTP method\")\n",
    "\n",
    "    return response"
   ]
  },
  {
   "cell_type": "markdown",
   "id": "e24f8cd0",
   "metadata": {},
   "source": [
    "## Test Boolean Parameter"
   ]
  },
  {
   "cell_type": "code",
   "execution_count": null,
   "id": "63b98cdc",
   "metadata": {},
   "outputs": [],
   "source": [
    "# Test Function 0: bool\n",
    "response = test_api(\"bool\", params={\"value\": \"true\"})\n",
    "display_response(response)\n",
    "response = test_api(\"bool\", method=\"POST\", json_data={\"value\": True})\n",
    "display_response(response)"
   ]
  },
  {
   "cell_type": "markdown",
   "id": "5932b3a1",
   "metadata": {},
   "source": [
    "## Test String Parameter"
   ]
  },
  {
   "cell_type": "code",
   "execution_count": null,
   "id": "2bc7b218",
   "metadata": {},
   "outputs": [],
   "source": [
    "# Test Function 1: greet\n",
    "response = test_api(\"greet\", params={\"name\": \"John\"})\n",
    "display_response(response)\n",
    "response = test_api(\"greet\", method=\"POST\", json_data={\"name\": \"John\"})\n",
    "display_response(response)"
   ]
  },
  {
   "cell_type": "markdown",
   "id": "096af388",
   "metadata": {},
   "source": [
    "## Test List of Strings"
   ]
  },
  {
   "cell_type": "code",
   "execution_count": null,
   "id": "2ccd694b",
   "metadata": {},
   "outputs": [],
   "source": [
    "# Test Function 2: list_tags\n",
    "response = test_api(\"list_tags\", params={\"tags[]\": [\"red\", \"blue\", \"green\"]})\n",
    "display_response(response)\n",
    "response = test_api(\"list_tags\", method=\"POST\", json_data={\"tags\": [\"red\", \"blue\", \"green\"]})\n",
    "display_response(response)"
   ]
  },
  {
   "cell_type": "markdown",
   "id": "c6624ac4",
   "metadata": {},
   "source": [
    "## Test String with Comma"
   ]
  },
  {
   "cell_type": "code",
   "execution_count": null,
   "id": "6bcf5ab2",
   "metadata": {},
   "outputs": [],
   "source": [
    "# Test Function 3: show_title\n",
    "response = test_api(\"show_title\", params={\"title\": \"Hello, World\"})\n",
    "display_response(response)\n",
    "response = test_api(\"show_title\", method=\"POST\", json_data={\"title\": \"Hello, World\"})\n",
    "display_response(response)"
   ]
  },
  {
   "cell_type": "markdown",
   "id": "6f1ab32f",
   "metadata": {},
   "source": [
    "## Test List of Strings with Commas"
   ]
  },
  {
   "cell_type": "code",
   "execution_count": null,
   "id": "1cb5ce6e",
   "metadata": {},
   "outputs": [],
   "source": [
    "# Test Function 4: complex_tags\n",
    "response = test_api(\"complex_tags\", params={\"tags[]\": [\"red\", \"blue, with commas\"]})\n",
    "display_response(response)\n",
    "response = test_api(\"complex_tags\", method=\"POST\", json_data={\"tags\": [\"red\", \"blue, with commas\"]})\n",
    "display_response(response)"
   ]
  },
  {
   "cell_type": "markdown",
   "id": "3b153918",
   "metadata": {},
   "source": [
    "## Test Integer Parameter"
   ]
  },
  {
   "cell_type": "code",
   "execution_count": null,
   "id": "8c7437c7",
   "metadata": {},
   "outputs": [],
   "source": [
    "# Test Function 5: show_age\n",
    "response = test_api(\"show_age\", params={\"age\": 30})\n",
    "display_response(response)\n",
    "response = test_api(\"show_age\", method=\"POST\", json_data={\"age\": 30})\n",
    "display_response(response)"
   ]
  },
  {
   "cell_type": "markdown",
   "id": "47e82004",
   "metadata": {},
   "source": [
    "## Test Float Parameter"
   ]
  },
  {
   "cell_type": "code",
   "execution_count": null,
   "id": "7b728d2c",
   "metadata": {},
   "outputs": [],
   "source": [
    "# Test Function 6: show_price\n",
    "response = test_api(\"show_price\", params={\"price\": 19.99})\n",
    "display_response(response)\n",
    "response = test_api(\"show_price\", method=\"POST\", json_data={\"price\": 19.99})\n",
    "display_response(response)"
   ]
  },
  {
   "cell_type": "markdown",
   "id": "a6f1d440",
   "metadata": {},
   "source": [
    "## Test List of Integers"
   ]
  },
  {
   "cell_type": "code",
   "execution_count": null,
   "id": "d1418038",
   "metadata": {},
   "outputs": [],
   "source": [
    "# Test Function 7: show_scores\n",
    "response = test_api(\"show_scores\", params={\"scores[]\": [10, 20, 30]})\n",
    "display_response(response)\n",
    "response = test_api(\"show_scores\", method=\"POST\", json_data={\"scores\": [10, 20, 30]})\n",
    "display_response(response)"
   ]
  },
  {
   "cell_type": "markdown",
   "id": "85723beb",
   "metadata": {},
   "source": [
    "## Test List of Floats"
   ]
  },
  {
   "cell_type": "code",
   "execution_count": null,
   "id": "0ab8d613",
   "metadata": {},
   "outputs": [],
   "source": [
    "# Test Function 8: show_temperatures\n",
    "response = test_api(\"show_temperatures\", params={\"temperatures[]\": [36.6, 37.1, 38.0]})\n",
    "display_response(response)\n",
    "response = test_api(\"show_temperatures\", method=\"POST\", json_data={\"temperatures\": [36.6, 37.1, 38.0]})\n",
    "display_response(response)"
   ]
  },
  {
   "cell_type": "markdown",
   "id": "76fc7ccb",
   "metadata": {},
   "source": [
    "## Test Combination of Parameters"
   ]
  },
  {
   "cell_type": "code",
   "execution_count": null,
   "id": "afeadd34",
   "metadata": {},
   "outputs": [],
   "source": [
    "# Test Function 10: show_profile\n",
    "response = test_api(\"show_profile\", params={\"name\": \"John\", \"age\": 30, \"height\": 5.9})\n",
    "display_response(response)\n",
    "response = test_api(\"show_profile\", method=\"POST\", json_data={\"name\": \"John\", \"age\": 30, \"height\": 5.9})\n",
    "display_response(response)"
   ]
  },
  {
   "cell_type": "markdown",
   "id": "2d73dc9d",
   "metadata": {},
   "source": [
    "## Test Pandas DataFrame"
   ]
  },
  {
   "cell_type": "code",
   "execution_count": null,
   "id": "16366b79",
   "metadata": {},
   "outputs": [],
   "source": [
    "# Test Function 11: get_dataframe\n",
    "response = test_api(\"get_dataframe\")\n",
    "display_response(response)\n",
    "response = test_api(\"get_dataframe\", method=\"POST\")\n",
    "display_response(response)"
   ]
  },
  {
   "cell_type": "markdown",
   "id": "4295776d",
   "metadata": {},
   "source": [
    "## Test Legacy Pandas DataFrame"
   ]
  },
  {
   "cell_type": "code",
   "execution_count": null,
   "id": "eebfbd58",
   "metadata": {},
   "outputs": [],
   "source": [
    "# Test Function 12: get_dataframe_legacy\n",
    "response = test_api(\"get_dataframe_legacy\")\n",
    "display_response(response)\n",
    "response = test_api(\"get_dataframe_legacy\", method=\"POST\")\n",
    "display_response(response)"
   ]
  },
  {
   "cell_type": "markdown",
   "id": "3d905da1",
   "metadata": {},
   "source": [
    "## Test Red Square Image"
   ]
  },
  {
   "cell_type": "code",
   "execution_count": null,
   "id": "9e3a7111",
   "metadata": {},
   "outputs": [],
   "source": [
    "# Test Function 13: create_red_square\n",
    "response = test_api(\"create_red_square\", params={\"size\": 100})\n",
    "display_image_from_response(response)\n",
    "response = test_api(\"create_red_square\", method=\"POST\", json_data={\"size\": 100})\n",
    "display_image_from_response(response)"
   ]
  },
  {
   "cell_type": "markdown",
   "id": "b3c6df5b",
   "metadata": {},
   "source": [
    "## Test Bar Chart"
   ]
  },
  {
   "cell_type": "code",
   "execution_count": null,
   "id": "ef51b923",
   "metadata": {},
   "outputs": [],
   "source": [
    "# Test Function 14: create_bar_chart\n",
    "response = test_api(\"create_bar_chart\")\n",
    "display_image_from_response(response)\n",
    "response = test_api(\"create_bar_chart\", method=\"POST\")\n",
    "display_image_from_response(response)"
   ]
  },
  {
   "cell_type": "markdown",
   "id": "c8f156c5",
   "metadata": {},
   "source": [
    "## Test Correlation Heatmap"
   ]
  },
  {
   "cell_type": "code",
   "execution_count": null,
   "id": "ff9f1902",
   "metadata": {},
   "outputs": [],
   "source": [
    "# Test Function 15: correlation_heatmap\n",
    "response = test_api(\"correlation_heatmap\")\n",
    "display_image_from_response(response)\n",
    "response = test_api(\"correlation_heatmap\", method=\"POST\")\n",
    "display_image_from_response(response)"
   ]
  }
 ],
 "metadata": {
  "kernelspec": {
   "display_name": ".venv",
   "language": "python",
   "name": "python3"
  },
  "language_info": {
   "codemirror_mode": {
    "name": "ipython",
    "version": 3
   },
   "file_extension": ".py",
   "mimetype": "text/x-python",
   "name": "python",
   "nbconvert_exporter": "python",
   "pygments_lexer": "ipython3",
   "version": "3.11.9"
  }
 },
 "nbformat": 4,
 "nbformat_minor": 5
}
