{
 "cells": [
  {
   "cell_type": "markdown",
   "id": "80b364c6",
   "metadata": {},
   "source": [
    "# Test OpenAPI Specification Generation\n",
    "\n",
    "This notebook tests the new OpenAPI specification generation functionality added to the notebook-nanoservice project."
   ]
  },
  {
   "cell_type": "code",
   "execution_count": null,
   "id": "c2b02576",
   "metadata": {},
   "outputs": [],
   "source": [
    "from notebook_nanoservice import NanoService\n",
    "import json\n",
    "\n",
    "# Define some test functions with various parameter types\n",
    "def simple_function(name: str):\n",
    "    \"\"\"A simple function that greets someone.\"\"\"\n",
    "    return f\"Hello, {name}!\"\n",
    "\n",
    "def complex_function(age: int, height: float, is_student: bool, hobbies: list[str]):\n",
    "    \"\"\"A function with multiple parameter types.\"\"\"\n",
    "    return {\n",
    "        \"age\": age,\n",
    "        \"height\": height,\n",
    "        \"is_student\": is_student,\n",
    "        \"hobbies\": hobbies\n",
    "    }\n",
    "\n",
    "def create_image(size: int):\n",
    "    \"\"\"Creates a simple image - should be detected as image response.\"\"\"\n",
    "    from PIL import Image\n",
    "    return Image.new('RGB', (size, size), color='blue')\n",
    "\n",
    "def no_params():\n",
    "    \"\"\"Function with no parameters.\"\"\"\n",
    "    return \"No parameters needed!\"\n",
    "\n",
    "print(\"Test functions defined!\")"
   ]
  },
  {
   "cell_type": "code",
   "execution_count": null,
   "id": "b8948d16",
   "metadata": {},
   "outputs": [],
   "source": [
    "# Start the nanoservice\n",
    "service = NanoService(globals(), port=5002)\n",
    "service.start()\n",
    "print(\"Service started on http://localhost:5002\")"
   ]
  },
  {
   "cell_type": "code",
   "execution_count": null,
   "id": "99dccb17",
   "metadata": {},
   "outputs": [],
   "source": [
    "# Test the standard JSON API with the new params field\n",
    "import requests\n",
    "\n",
    "response = requests.get(\"http://localhost:5002\")\n",
    "api_data = response.json()\n",
    "\n",
    "print(\"=== Standard JSON API Response ===\")\n",
    "print(f\"Status: {response.status_code}\")\n",
    "print(\"\\nFunctions found:\")\n",
    "for func_name in api_data['api'].keys():\n",
    "    print(f\"- {func_name}\")\n",
    "\n",
    "print(\"\\n=== Sample Function Info ===\")\n",
    "sample_func = 'complex_function'\n",
    "if sample_func in api_data['api']:\n",
    "    func_info = api_data['api'][sample_func]\n",
    "    print(f\"Function: {sample_func}\")\n",
    "    print(f\"Signature: {func_info['signature']}\")\n",
    "    print(f\"Doc: {func_info['doc']}\")\n",
    "    print(f\"Params: {json.dumps(func_info['params'], indent=2)}\")\n",
    "else:\n",
    "    print(f\"Function {sample_func} not found\")"
   ]
  },
  {
   "cell_type": "code",
   "execution_count": null,
   "id": "2bdd9b93",
   "metadata": {},
   "outputs": [],
   "source": [
    "# Test the new OpenAPI specification generation\n",
    "response = requests.get(\"http://localhost:5002?format=openapi\")\n",
    "openapi_spec = response.json()\n",
    "\n",
    "print(\"=== OpenAPI Specification ===\")\n",
    "print(f\"Status: {response.status_code}\")\n",
    "print(f\"OpenAPI Version: {openapi_spec.get('openapi')}\")\n",
    "print(f\"API Title: {openapi_spec.get('info', {}).get('title')}\")\n",
    "print(f\"API Version: {openapi_spec.get('info', {}).get('version')}\")\n",
    "\n",
    "print(\"\\n=== Available Paths ===\")\n",
    "for path in openapi_spec.get('paths', {}).keys():\n",
    "    print(f\"- {path}\")\n",
    "\n",
    "print(\"\\n=== Sample Path Details ===\")\n",
    "sample_path = '/api/complex_function'\n",
    "if sample_path in openapi_spec.get('paths', {}):\n",
    "    path_info = openapi_spec['paths'][sample_path]\n",
    "    print(f\"Path: {sample_path}\")\n",
    "    print(f\"Methods: {list(path_info.keys())}\")\n",
    "    \n",
    "    if 'get' in path_info:\n",
    "        get_op = path_info['get']\n",
    "        print(f\"\\nGET Operation:\")\n",
    "        print(f\"  Summary: {get_op.get('summary')}\")\n",
    "        print(f\"  Parameters: {len(get_op.get('parameters', []))}\")\n",
    "        for param in get_op.get('parameters', []):\n",
    "            print(f\"    - {param['name']} ({param['schema']['type']}, required: {param['required']})\")\n",
    "    \n",
    "    if 'post' in path_info:\n",
    "        post_op = path_info['post']\n",
    "        print(f\"\\nPOST Operation:\")\n",
    "        print(f\"  Summary: {post_op.get('summary')}\")\n",
    "        if 'requestBody' in post_op:\n",
    "            schema = post_op['requestBody']['content']['application/json']['schema']\n",
    "            print(f\"  Request Body Properties: {list(schema.get('properties', {}).keys())}\")\n",
    "            print(f\"  Required Fields: {schema.get('required', [])}\")\n",
    "else:\n",
    "    print(f\"Path {sample_path} not found\")"
   ]
  },
  {
   "cell_type": "code",
   "execution_count": null,
   "id": "2a200fd6",
   "metadata": {},
   "outputs": [],
   "source": [
    "# Test parameter extraction for different function types\n",
    "print(\"=== Parameter Extraction Test ===\")\n",
    "\n",
    "test_functions = ['simple_function', 'complex_function', 'create_image', 'no_params']\n",
    "\n",
    "for func_name in test_functions:\n",
    "    if func_name in api_data['api']:\n",
    "        params = api_data['api'][func_name]['params']\n",
    "        print(f\"\\n{func_name}:\")\n",
    "        if params:\n",
    "            for param in params:\n",
    "                type_info = param['type']\n",
    "                if param['type'] == 'array':\n",
    "                    type_info += f\" of {param.get('items', {}).get('type', 'unknown')}\"\n",
    "                print(f\"  - {param['name']}: {type_info} (required: {param['required']})\")\n",
    "        else:\n",
    "            print(\"  No parameters\")\n",
    "    else:\n",
    "        print(f\"\\n{func_name}: Not found\")"
   ]
  },
  {
   "cell_type": "code",
   "execution_count": null,
   "id": "424013c8",
   "metadata": {},
   "outputs": [],
   "source": [
    "# Pretty print the full OpenAPI spec for inspection\n",
    "print(\"=== Full OpenAPI Specification ===\")\n",
    "print(json.dumps(openapi_spec, indent=2))"
   ]
  },
  {
   "cell_type": "code",
   "execution_count": null,
   "id": "2ad28019",
   "metadata": {},
   "outputs": [],
   "source": [
    "# Test that the existing API functionality still works\n",
    "print(\"=== Testing Existing API Functionality ===\")\n",
    "\n",
    "# Test simple function\n",
    "response = requests.get(\"http://localhost:5002/api/simple_function?name=OpenAPI\")\n",
    "print(f\"Simple function test: {response.status_code} - {response.text}\")\n",
    "\n",
    "# Test complex function via POST\n",
    "payload = {\n",
    "    \"age\": 25,\n",
    "    \"height\": 5.8,\n",
    "    \"is_student\": True,\n",
    "    \"hobbies\": [\"reading\", \"coding\"]\n",
    "}\n",
    "response = requests.post(\"http://localhost:5002/api/complex_function\", json=payload)\n",
    "print(f\"Complex function test: {response.status_code} - {response.text}\")\n",
    "\n",
    "# Test no params function\n",
    "response = requests.get(\"http://localhost:5002/api/no_params\")\n",
    "print(f\"No params function test: {response.status_code} - {response.text}\")"
   ]
  },
  {
   "cell_type": "code",
   "execution_count": null,
   "id": "f6b3a02e",
   "metadata": {},
   "outputs": [],
   "source": [
    "# Stop the service\n",
    "service.stop()\n",
    "print(\"Service stopped.\")"
   ]
  }
 ],
 "metadata": {
  "kernelspec": {
   "display_name": ".venv",
   "language": "python",
   "name": "python3"
  },
  "language_info": {
   "codemirror_mode": {
    "name": "ipython",
    "version": 3
   },
   "file_extension": ".py",
   "mimetype": "text/x-python",
   "name": "python",
   "nbconvert_exporter": "python",
   "pygments_lexer": "ipython3",
   "version": "3.11.9"
  }
 },
 "nbformat": 4,
 "nbformat_minor": 5
}
