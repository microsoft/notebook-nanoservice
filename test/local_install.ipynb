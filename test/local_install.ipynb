{
 "cells": [
  {
   "cell_type": "code",
   "execution_count": null,
   "id": "d3df6ace",
   "metadata": {},
   "outputs": [],
   "source": [
    "%pip uninstall notebook_nanoservice -y"
   ]
  },
  {
   "cell_type": "code",
   "execution_count": null,
   "id": "4b0a65ab",
   "metadata": {},
   "outputs": [],
   "source": [
    "%pip install -e .."
   ]
  },
  {
   "cell_type": "code",
   "execution_count": null,
   "id": "9793d605",
   "metadata": {},
   "outputs": [],
   "source": [
    "%pip show notebook_nanoservice"
   ]
  },
  {
   "cell_type": "markdown",
   "id": "690d334d",
   "metadata": {},
   "source": [
    "# IMPORTANT\n",
    "Restart the kernel before running the next cell."
   ]
  },
  {
   "cell_type": "code",
   "execution_count": null,
   "id": "b15e315b",
   "metadata": {},
   "outputs": [],
   "source": [
    "from notebook_nanoservice import NanoService"
   ]
  }
 ],
 "metadata": {
  "kernelspec": {
   "display_name": "Python 3",
   "language": "python",
   "name": "python3"
  },
  "language_info": {
   "codemirror_mode": {
    "name": "ipython",
    "version": 3
   },
   "file_extension": ".py",
   "mimetype": "text/x-python",
   "name": "python",
   "nbconvert_exporter": "python",
   "pygments_lexer": "ipython3",
   "version": "3.11.9"
  }
 },
 "nbformat": 4,
 "nbformat_minor": 5
}
